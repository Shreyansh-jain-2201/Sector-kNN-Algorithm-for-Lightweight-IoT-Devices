{
 "cells": [
  {
   "cell_type": "code",
   "execution_count": 1,
   "metadata": {
    "pycharm": {
     "name": "#%%\n"
    }
   },
   "outputs": [],
   "source": [
    "import numpy as np\n",
    "import matplotlib.pyplot as plt\n",
    "import pandas as pd\n",
    "import seaborn as sns\n",
    "import pickle\n",
    "from sklearn.metrics import classification_report, confusion_matrix, accuracy_score\n",
    "from sklearn.model_selection import train_test_split, cross_val_score\n",
    "from collections import deque\n",
    "from copy import deepcopy\n",
    "from tqdm import tqdm"
   ]
  },
  {
   "cell_type": "code",
   "execution_count": 2,
   "metadata": {
    "pycharm": {
     "name": "#%%\n"
    }
   },
   "outputs": [],
   "source": [
    "class kNN:\n",
    "    def __init__(self):\n",
    "        self.k = None\n",
    "        self.X = None\n",
    "        self.y = None\n",
    "        self.classes = None\n",
    "        self.hyperparameters = None\n",
    "        self.sectors = None\n",
    "        self.maxDistance = None\n",
    "        self.sdt = None\n",
    "        self.mean = None\n",
    "        self.Normalized = False\n",
    "        self.Accuracy = None\n",
    "        self.data = None\n",
    "        self.maxi = None\n",
    "        self.mini = None\n",
    "\n",
    "    def fit(self, X, y, hyperparameters,mini, maxi, classes = -1,k=1,Normalized=True):\n",
    "        self.X = np.array(X).astype(float)\n",
    "        self.y = np.array(y).astype(int)\n",
    "        self.k = k\n",
    "        self.hyperparameters = np.array(hyperparameters)\n",
    "        self.classes = len(np.unique(y)) if (classes == -1) else classes\n",
    "        self.Normalized = Normalized\n",
    "        self.maxi = maxi\n",
    "        self.mini = mini\n",
    "        if Normalized:\n",
    "            self.sdt = np.std(X, axis=0)\n",
    "            self.mean = np.mean(X, axis=0)\n",
    "            self.X = (self.X-self.mean)/self.sdt\n",
    "\n",
    "    def neighbors(self,index):\n",
    "        hyperparameters = self.hyperparameters\n",
    "        _neighbors = []\n",
    "        for i in range(len(index)):\n",
    "            temp = list(index)\n",
    "            if(index[i] == 0):\n",
    "                if(hyperparameters[i] == 1):\n",
    "                    continue\n",
    "                temp[i] = 1\n",
    "                _neighbors.append(tuple(temp))\n",
    "            elif(index[i] == hyperparameters[i]-1):\n",
    "                temp[i] -= 1\n",
    "                _neighbors.append(tuple(temp))\n",
    "            else:\n",
    "                temp[i] += 1\n",
    "                _neighbors.append(tuple(temp))\n",
    "                temp[i] -= 2\n",
    "                _neighbors.append(tuple(temp))\n",
    "        return _neighbors\n",
    "\n",
    "    def radialDistance(self,X,i=0):\n",
    "        try:\n",
    "            val = np.sqrt(np.sum(X[:,i:]**2, axis=1))\n",
    "        except Exception:\n",
    "            val = np.sqrt(np.sum(X[i:]**2))\n",
    "        val = np.where(val==0, 1, val)\n",
    "        return val\n",
    "\n",
    "    def getPoints(self,hyperparameters):\n",
    "        arrays = [np.arange(x) for x in self.hyperparameters]\n",
    "        grid = np.meshgrid(*arrays)\n",
    "        coord_list = [entry.ravel() for entry in grid]\n",
    "        points = np.vstack(coord_list).T\n",
    "        return points\n",
    "\n",
    "    def sphericalCoordinates(self,X):\n",
    "        temp = np.zeros(X.shape)\n",
    "        temp[:, 0] = self.radialDistance(X)\n",
    "        for i in range(len(X[0])-2):\n",
    "            temp[:,i+1] = np.arccos(X[:,i]/self.radialDistance(X,i))\n",
    "        secondLastColumn = X[:,len(X[0])-2]\n",
    "        lastColumn = X[:,len(X[0])-1]\n",
    "        temp[:,len(X[0])-1][lastColumn<0] = 2*np.pi - np.arccos(secondLastColumn[lastColumn<0]/self.radialDistance(X[lastColumn<0][:,-2:]))\n",
    "        temp[:,len(X[0])-1][lastColumn>=0] = np.arccos(secondLastColumn[lastColumn>=0]/self.radialDistance(X[lastColumn>=0][:,-2:]))\n",
    "        return temp\n",
    "\n",
    "    def spacePartition(self,X,hyperparameters,predict=False):\n",
    "        hyperparameters = self.hyperparameters\n",
    "        epsilon  = 0.000001\n",
    "        if predict:\n",
    "            maxDistance = self.maxDistance\n",
    "        else:\n",
    "            maxDistance = np.amax(X[:,0])\n",
    "            self.maxDistance = maxDistance\n",
    "        temp = np.zeros(X.shape)\n",
    "        temp[:,0] = np.floor(((hyperparameters[0]*X[:,0])/maxDistance)-epsilon)\n",
    "        temp[:, 1 : len(hyperparameters) - 1] = np.floor(\n",
    "            hyperparameters[1:-1] * X[:, 1 : len(hyperparameters) - 1] / np.pi\n",
    "            - epsilon\n",
    "        )\n",
    "        temp[:,-1] = np.floor((hyperparameters[-1]*X[:,-1]/(2*np.pi))-epsilon)\n",
    "        temp[temp<0] = 0\n",
    "        return temp.astype(int)\n",
    "\n",
    "    def getSectors(self,X,y,hyperparameters):\n",
    "        X = self.sphericalCoordinates(X)\n",
    "        X = self.spacePartition(X, hyperparameters)\n",
    "        classes = self.classes\n",
    "        points = self.getPoints(hyperparameters)\n",
    "        temp = np.zeros((len(points),classes)).astype(int)\n",
    "        sectors = dict(zip(map(tuple, points), temp))\n",
    "        for _x,_y in zip(X,y):\n",
    "            sectors[tuple(_x)][_y] += 1\n",
    "        return sectors\n",
    "\n",
    "    def getClasses(self):\n",
    "        X = self.X\n",
    "        y = self.y\n",
    "        K = self.k\n",
    "        hyperparameters = self.hyperparameters\n",
    "        sectors = self.getSectors(X,y,hyperparameters)\n",
    "        totalSectors = np.prod(hyperparameters)\n",
    "        classes = {}\n",
    "        data = {}\n",
    "        for sector in tqdm(sectors, total=totalSectors, desc=\"Sectors\", unit=\" sector\"):\n",
    "            queue = deque()\n",
    "            results = deepcopy(sectors[sector])\n",
    "            visited = []\n",
    "            queue.append(sector)\n",
    "            k = np.sum(results)\n",
    "            while(queue and k<K):\n",
    "                parent = queue.popleft()\n",
    "                if parent in visited:\n",
    "                    continue\n",
    "                visited.append(parent)\n",
    "                neighbors_ = self.neighbors(parent)\n",
    "                for neighbor in neighbors_:\n",
    "                    results+=sectors[neighbor]\n",
    "                    k = np.sum(results)\n",
    "                    queue.append(neighbor)\n",
    "            classes[sector] = np.argmax(results)\n",
    "            data[sector] = results\n",
    "        self.data = data\n",
    "        return classes\n",
    "\n",
    "    def compile(self):\n",
    "        self.sectors = self.getClasses()\n",
    "\n",
    "    def predict(self, X, Preprocessed=False):\n",
    "        if not Preprocessed:\n",
    "            for i in range(len(X[0])):\n",
    "                X[:,i][X[:,i]<self.mini[i]] = self.mini[i]\n",
    "                X[:,i][X[:,i]>self.maxi[i]] = self.maxi[i]\n",
    "                X[:,i] = (X[:,i]-self.mini[i])/(self.maxi[i]-self.mini[i])\n",
    "            X = (X-self.mean)/self.sdt\n",
    "        y_pred = np.zeros(X.shape[0]).astype(int)\n",
    "        for i, x in enumerate(X):\n",
    "            try:\n",
    "                x = x.reshape(1,-1)\n",
    "                sphericalCoordinates = self.sphericalCoordinates(x)\n",
    "                spacePartition = self.spacePartition(sphericalCoordinates, self.hyperparameters,predict=True)\n",
    "                y_pred[i] = self.sectors[tuple(spacePartition[0])]\n",
    "            except Exception:\n",
    "                continue\n",
    "        return y_pred.astype(int)\n",
    "\n",
    "    def accuracy(self, X, y):\n",
    "        if self.Normalized:\n",
    "            X = (X-self.mean)/self.sdt\n",
    "        y_pred = self.predict(X, Preprocessed=True)\n",
    "        self.Accuracy = accuracy_score(y, y_pred)*100\n",
    "        print(f\"Accuracy: {self.Accuracy} %\")\n",
    "\n",
    "\n",
    "    def learn(self, X, Y, Preprocessed=False):\n",
    "        if self.Normalized and not Preprocessed:\n",
    "            for i in range(len(X[0])):\n",
    "                X[:,i][X[:,i]<self.mini[i]] = self.mini[i]\n",
    "                X[:,i][X[:,i]>self.maxi[i]] = self.maxi[i]\n",
    "                X[:,i] = (X[:,i]-self.mini[i])/(self.maxi[i]-self.mini[i])\n",
    "            X = (X-self.mean)/self.sdt\n",
    "        for x,y in zip(X,Y):\n",
    "            x = x.reshape(1,-1)\n",
    "            sphericalCoordinates = self.sphericalCoordinates(x)\n",
    "            spacePartition = self.spacePartition(sphericalCoordinates, self.hyperparameters,predict=True)\n",
    "            print(\"Before data: \",spacePartition[0], self.data[tuple(spacePartition[0])])\n",
    "            print(\"Before sectors: \", spacePartition[0], self.sectors[tuple(spacePartition[0])])\n",
    "            self.data[tuple(spacePartition[0])][y] += 1\n",
    "            self.sectors[tuple(spacePartition[0])] = np.argmax(self.data[tuple(spacePartition[0])])\n",
    "            print(\"After data: \",spacePartition[0], self.data[tuple(spacePartition[0])])\n",
    "            print(\"After sectors: \", spacePartition[0], self.sectors[tuple(spacePartition[0])])\n",
    "            print(\"Updated\")\n",
    "            \n",
    "            \n",
    "    def update(self, models):\n",
    "        models = np.array(models)\n",
    "        experiences = np.array([deepcopy(model.data) for model in models])\n",
    "        for sector in self.sectors:\n",
    "            for data in experiences:\n",
    "                data[sector] -= self.data[sector]\n",
    "            self.data[sector] += np.sum(data[sector] for data in experiences)\n",
    "            self.sectors[sector] = np.argmax(self.data[sector])\n",
    "        print(\"Model Updated\")\n",
    "\n",
    "\n",
    "    def plotConfusionChart(self, X, y, Preprocessed=True):\n",
    "        y_pred = self.predict(X, Preprocessed=Preprocessed)\n",
    "        cm = confusion_matrix(y, y_pred)\n",
    "        plt.figure(figsize=(10,7))\n",
    "        sns.heatmap(cm, annot=True)\n",
    "        plt.xlabel('Predicted')\n",
    "        plt.ylabel('Truth')\n",
    "        plt.show()\n",
    "\n",
    "    def showClassificationReport(self, X, y, Preprocessed=True):\n",
    "        y_pred = self.predict(X, Preprocessed=Preprocessed)\n",
    "        print(classification_report(y, y_pred, zero_division=0))\n",
    "\n",
    "    def showCharts(self, X, y):\n",
    "        self.plotConfusionChart(X,y)\n",
    "        self.showClassificationReport(X,y)\n",
    "\n",
    "\n",
    "def saveModel(model, name):\n",
    "    with open(name, 'wb') as file:\n",
    "        pickle.dump(model, file)\n",
    "\n",
    "def loadModel(name):\n",
    "    with open(name, 'rb') as file:\n",
    "        return pickle.load(file)"
   ]
  },
  {
   "cell_type": "markdown",
   "metadata": {},
   "source": [
    "# Evaluation Metrics for Classification\n",
    "1. Accuracy -> (TP+TN)/(TP+TN+FP+FN) -> Ratio of correct predictions to total predictions\n",
    "2. Precision -> TP/(TP+FP) -> Ratio of correct positive predictions to total positive predictions\n",
    "3. Recall -> TP/(TP+FN) -> Ratio of correct positive predictions to total positive actual positive values\n",
    "4. F1 Score -> 2*(Precision*Recall)/(Precision+Recall) -> Harmonic mean of precision and recall\n",
    "\n"
   ]
  },
  {
   "cell_type": "markdown",
   "metadata": {},
   "source": [
    "# IRIS DATASET"
   ]
  },
  {
   "cell_type": "code",
   "execution_count": 3,
   "metadata": {},
   "outputs": [],
   "source": [
    "# Preprocessing the dataset\n",
    "np.random.seed(42)\n",
    "df = pd.read_csv(r'Datasets\\\\Iris.csv', header=None).iloc[1:,1:]\n",
    "classes = np.sort(np.unique(df.iloc[1:, -1].values))\n",
    "df.replace('Iris-setosa', 0, inplace=True)\n",
    "df.replace('Iris-versicolor', 1, inplace=True)\n",
    "df.replace('Iris-virginica', 2, inplace=True)\n",
    "y = df.iloc[:,-1].values\n",
    "df = df.iloc[:,:-1]\n",
    "X = df.values.astype(float)\n",
    "mini = np.zeros(len(X[0]))\n",
    "maxi = np.zeros(len(X[0]))\n",
    "for i in range(len(X[0])):\n",
    "    mini[i] = np.min(X[:,i])\n",
    "    maxi[i] = np.max(X[:,i])\n",
    "    X[:,i] = (X[:,i] - np.min(X[:,i]))/(np.max(X[:,i]) - np.min(X[:,i]))\n",
    "    X[:,i] = (X[:,i] - np.mean(X[:,i]))/np.std(X[:,i])\n",
    "x_train, x_test, y_train, y_test = train_test_split(X, y, test_size=0.2, random_state=42)\n",
    "HYPERPARAMETERS__IRIS = [8,8,8,8]"
   ]
  },
  {
   "cell_type": "code",
   "execution_count": 4,
   "metadata": {},
   "outputs": [
    {
     "name": "stderr",
     "output_type": "stream",
     "text": [
      "Sectors: 100%|████████████████████████████████████████████████████████████████████████████| 4096/4096 [00:17<00:00, 233.15 sector/s]\n"
     ]
    }
   ],
   "source": [
    "model_IRIS = kNN()\n",
    "model_IRIS.fit(x_train, y_train, HYPERPARAMETERS__IRIS,mini,maxi, classes=3,k=1)\n",
    "model_IRIS.compile()"
   ]
  },
  {
   "cell_type": "code",
   "execution_count": 5,
   "metadata": {},
   "outputs": [
    {
     "data": {
      "text/plain": [
       "array([1])"
      ]
     },
     "execution_count": 5,
     "metadata": {},
     "output_type": "execute_result"
    }
   ],
   "source": [
    "model_IRIS.predict(np.array([5.9,3.2,4.8,1.8]).reshape(1,-1))"
   ]
  },
  {
   "cell_type": "code",
   "execution_count": 6,
   "metadata": {},
   "outputs": [
    {
     "name": "stdout",
     "output_type": "stream",
     "text": [
      "Accuracy: 100.0 %\n"
     ]
    }
   ],
   "source": [
    "model_IRIS.accuracy(x_test, y_test)"
   ]
  },
  {
   "cell_type": "code",
   "execution_count": 7,
   "metadata": {},
   "outputs": [
    {
     "data": {
      "image/png": "[encoded data removed]",
      "text/plain": [
       "<Figure size 1000x700 with 2 Axes>"
      ]
     },
     "metadata": {},
     "output_type": "display_data"
    },
    {
     "name": "stdout",
     "output_type": "stream",
     "text": [
      "              precision    recall  f1-score   support\n",
      "\n",
      "           0       1.00      1.00      1.00        10\n",
      "           1       1.00      1.00      1.00         9\n",
      "           2       1.00      1.00      1.00        11\n",
      "\n",
      "    accuracy                           1.00        30\n",
      "   macro avg       1.00      1.00      1.00        30\n",
      "weighted avg       1.00      1.00      1.00        30\n",
      "\n"
     ]
    }
   ],
   "source": [
    "model_IRIS.showCharts(x_test, y_test)"
   ]
  },
  {
   "cell_type": "code",
   "execution_count": 8,
   "metadata": {},
   "outputs": [
    {
     "data": {
      "text/plain": [
       "array([2])"
      ]
     },
     "execution_count": 8,
     "metadata": {},
     "output_type": "execute_result"
    }
   ],
   "source": [
    "x = np.array([6.8,3.2,5.9,2.3]).reshape(1,-1)\n",
    "model_IRIS.predict(x)"
   ]
  },
  {
   "cell_type": "markdown",
   "metadata": {},
   "source": [
    "## Federated Learning"
   ]
  },
  {
   "cell_type": "code",
   "execution_count": 9,
   "metadata": {},
   "outputs": [
    {
     "name": "stdout",
     "output_type": "stream",
     "text": [
      "Before data:  [3 2 3 1] [0 0 5]\n",
      "Before sectors:  [3 2 3 1] 2\n",
      "After data:  [3 2 3 1] [0 1 5]\n",
      "After sectors:  [3 2 3 1] 2\n",
      "Updated\n"
     ]
    }
   ],
   "source": [
    "model_IRIS.learn(np.array([6.8,3.2,5.9,2.3]).reshape(1,-1), np.array([1]).reshape(1,-1))"
   ]
  },
  {
   "cell_type": "markdown",
   "metadata": {},
   "source": [
    "### Iris Dataset\n",
    "\n",
    "| No of sectors | Prediction Accuracy | Model size (in MB) | Training time (s) | Prediction time (s) | Learning time (s) |\n",
    "|--------------|--------------------|---------------------|-------------------|---------------------|-------------------|\n",
    "| 1            | 33.33%             | 0.0047              | 0.0086            | 0.00150             | 0.001             |\n",
    "| 4            | 82.66%             | 0.0050              | 0.0048            | 0.00050             | 0.001             |\n",
    "| 16           | 85.33%             | 0.0065              | 0.0097            | 0.00048             | 0.001             |\n",
    "| 64           | 88.00%             | 0.0124              | 0.0116            | 0.00102             | 0.001             |\n",
    "| 256          | 93.33%             | 0.0360              | 0.0356            | 0.00103             | 0.002             |\n",
    "| 1024         | 96.66%             | 0.1305              | 0.8023            | 0.00079             | 0.001             |\n",
    "| 4096         | 98.66%             | 0.5085              | 20.4194           | 0.00237             | 0.001             |\n",
    "| 16384        | 98.0%              | 2.0206              | 375.5257           | 0.0010              | 0.001             |"
   ]
  },
  {
   "cell_type": "markdown",
   "metadata": {},
   "source": [
    "# SHUTTLE DATASET"
   ]
  },
  {
   "cell_type": "code",
   "execution_count": 10,
   "metadata": {},
   "outputs": [],
   "source": [
    "df = pd.read_csv(r'Datasets\\\\shuttle.csv', header=None).iloc[1:, :].values\n",
    "X = df[:, :-1].astype(float)\n",
    "Y = df[:, -1].astype(int)-1\n",
    "mini = np.zeros(len(X[0]))\n",
    "maxi = np.zeros(len(X[0]))\n",
    "for i in range(len(X[0])):\n",
    "    mini[i] = np.min(X[:,i])\n",
    "    maxi[i] = np.max(X[:,i])\n",
    "    X[:,i] = (X[:,i] - np.min(X[:,i]))/(np.max(X[:,i]) - np.min(X[:,i]))\n",
    "    X[:,i] = (X[:,i] - np.mean(X[:,i]))/np.std(X[:,i])\n",
    "X_train, X_test, Y_train, Y_test = train_test_split(X, Y, test_size=0.2, random_state=42)\n",
    "HYPERPARAMETERS__SHUTTLE = np.array([2,2,2,2,2,2,2,2,2])"
   ]
  },
  {
   "cell_type": "code",
   "execution_count": 11,
   "metadata": {},
   "outputs": [
    {
     "name": "stderr",
     "output_type": "stream",
     "text": [
      "Sectors: 100%|████████████████████████████████████████████████████████████████████████████| 512/512 [00:00<00:00, 17645.57 sector/s]\n"
     ]
    }
   ],
   "source": [
    "model_SHUTTLE = kNN()\n",
    "model_SHUTTLE.fit(X_train, Y_train, HYPERPARAMETERS__SHUTTLE,mini,maxi, classes=7,k=1)\n",
    "model_SHUTTLE.compile()"
   ]
  },
  {
   "cell_type": "code",
   "execution_count": 12,
   "metadata": {},
   "outputs": [
    {
     "name": "stdout",
     "output_type": "stream",
     "text": [
      "Accuracy: 91.79310344827586 %\n"
     ]
    }
   ],
   "source": [
    "model_SHUTTLE.accuracy(X_test, Y_test)"
   ]
  },
  {
   "cell_type": "code",
   "execution_count": 13,
   "metadata": {},
   "outputs": [
    {
     "data": {
      "image/png": "[encoded data removed]",
      "text/plain": [
       "<Figure size 1000x700 with 2 Axes>"
      ]
     },
     "metadata": {},
     "output_type": "display_data"
    },
    {
     "name": "stdout",
     "output_type": "stream",
     "text": [
      "              precision    recall  f1-score   support\n",
      "\n",
      "           0       0.97      0.96      0.97      2293\n",
      "           1       1.00      0.50      0.67         4\n",
      "           2       0.00      0.00      0.00        13\n",
      "           3       0.72      0.81      0.76       436\n",
      "           4       0.76      0.66      0.70       152\n",
      "           5       0.00      0.00      0.00         1\n",
      "           6       0.00      0.00      0.00         1\n",
      "\n",
      "    accuracy                           0.92      2900\n",
      "   macro avg       0.49      0.42      0.44      2900\n",
      "weighted avg       0.92      0.92      0.92      2900\n",
      "\n"
     ]
    }
   ],
   "source": [
    "model_SHUTTLE.showCharts(X_test, Y_test)"
   ]
  },
  {
   "cell_type": "markdown",
   "metadata": {},
   "source": [
    "## Federated Learning"
   ]
  },
  {
   "cell_type": "code",
   "execution_count": 14,
   "metadata": {},
   "outputs": [
    {
     "name": "stdout",
     "output_type": "stream",
     "text": [
      "Before data:  [0 1 1 0 0 0 0 0 1] [53  0  0  0  0  0  0]\n",
      "Before sectors:  [0 1 1 0 0 0 0 0 1] 0\n",
      "After data:  [0 1 1 0 0 0 0 0 1] [53  1  0  0  0  0  0]\n",
      "After sectors:  [0 1 1 0 0 0 0 0 1] 0\n",
      "Updated\n"
     ]
    }
   ],
   "source": [
    "model_SHUTTLE.learn(np.array([37,-51,106,-1,34,-1,69,72,4]).reshape(1,-1), np.array([1]).reshape(1,-1))"
   ]
  },
  {
   "cell_type": "markdown",
   "metadata": {},
   "source": [
    "### Shuttle Dataset\n",
    "\n",
    "| No of sectors | Prediction Accuracy | Model size (in MB) | Training time (s) | Prediction time (s) | Learning time (s) |\n",
    "|--------------|--------------------|---------------------|-------------------|---------------------|-------------------|\n",
    "| 1            | 79.06%             | 0.8416              | 0.0311            | 0.0015              | 0.001             |\n",
    "| 4            | 79.17%             | 0.8422              | 0.0283            | 0.0009              | 0.001             |\n",
    "| 16           | 79.21%             | 0.8447              | 0.02310           | 0.0012              | 0.002             |\n",
    "| 64           | 87.96%             | 0.8548              | 0.02779           | 0.0008              | 0.001             |\n",
    "| 256          | 89.86%             | 0.8591              | 0.03643           | 0.0014              | 0.001             |\n",
    "| 1024         | 91.79%             | 1.0563              | 0.60432           | 0.0012              | 0.001             |\n",
    "| 4096         | 91.88%             | 1.7009              | 6.7168            | 0.0011              | 0.002             |\n",
    "| 16384        | 94.57%             | 4.2794              | 45.0785           | 0.0003              | 0.0002            |\n"
   ]
  },
  {
   "cell_type": "markdown",
   "metadata": {},
   "source": [
    "# WI-FI DATASET"
   ]
  },
  {
   "cell_type": "code",
   "execution_count": 15,
   "metadata": {},
   "outputs": [],
   "source": [
    "df = pd.read_csv(r'Datasets\\\\wifi.csv', header=None).iloc[1:,1:].astype(int)\n",
    "y = df.iloc[:,-1].values.astype(int) - 1\n",
    "X = df.values.astype(float)\n",
    "mini = np.zeros(len(X[0]))\n",
    "maxi = np.zeros(len(X[0]))\n",
    "for i in range(len(X[0])):\n",
    "    mini[i] = np.min(X[:,i])\n",
    "    maxi[i] = np.max(X[:,i])\n",
    "    X[:,i] = (X[:,i] - np.min(X[:,i]))/(np.max(X[:,i]) - np.min(X[:,i]))\n",
    "    X[:,i] = (X[:,i] - np.mean(X[:,i]))/np.std(X[:,i])\n",
    "x_train, x_test, y_train, y_test = train_test_split(X, y, test_size=0.2, random_state=42)\n",
    "HYPERPARAMETERS__WIFI = [4,4,4,4,4,4,4]\n",
    "classes = len(np.unique(y))"
   ]
  },
  {
   "cell_type": "code",
   "execution_count": 16,
   "metadata": {},
   "outputs": [
    {
     "name": "stderr",
     "output_type": "stream",
     "text": [
      "Sectors: 100%|██████████████████████████████████████████████████████████████████████████| 16384/16384 [00:39<00:00, 411.29 sector/s]\n"
     ]
    }
   ],
   "source": [
    "model_WIFI = kNN()\n",
    "model_WIFI.fit(x_train, y_train, HYPERPARAMETERS__WIFI,mini,maxi, classes=classes,k=1)\n",
    "model_WIFI.compile()"
   ]
  },
  {
   "cell_type": "code",
   "execution_count": 17,
   "metadata": {},
   "outputs": [
    {
     "name": "stdout",
     "output_type": "stream",
     "text": [
      "Accuracy: 98.5 %\n"
     ]
    }
   ],
   "source": [
    "model_WIFI.accuracy(x_test, y_test)"
   ]
  },
  {
   "cell_type": "code",
   "execution_count": 18,
   "metadata": {},
   "outputs": [
    {
     "data": {
      "image/png": "[encoded data removed]",
      "text/plain": [
       "<Figure size 1000x700 with 2 Axes>"
      ]
     },
     "metadata": {},
     "output_type": "display_data"
    },
    {
     "name": "stdout",
     "output_type": "stream",
     "text": [
      "              precision    recall  f1-score   support\n",
      "\n",
      "           0       1.00      1.00      1.00       104\n",
      "           1       1.00      1.00      1.00        95\n",
      "           2       1.00      0.95      0.98        88\n",
      "           3       0.97      1.00      0.98       113\n",
      "\n",
      "    accuracy                           0.99       400\n",
      "   macro avg       0.99      0.99      0.99       400\n",
      "weighted avg       0.99      0.99      0.99       400\n",
      "\n"
     ]
    }
   ],
   "source": [
    "model_WIFI.showCharts(x_test, y_test)"
   ]
  },
  {
   "cell_type": "markdown",
   "metadata": {},
   "source": [
    "## Federated Learning"
   ]
  },
  {
   "cell_type": "code",
   "execution_count": 19,
   "metadata": {},
   "outputs": [
    {
     "name": "stdout",
     "output_type": "stream",
     "text": [
      "Before data:  [0 1 2 2 1 0 1] [0 0 1 0]\n",
      "Before sectors:  [0 1 2 2 1 0 1] 2\n",
      "After data:  [0 1 2 2 1 0 1] [0 0 1 1]\n",
      "After sectors:  [0 1 2 2 1 0 1] 2\n",
      "Updated\n"
     ]
    }
   ],
   "source": [
    "model_WIFI.learn(np.array([-58,-51,-56,-58,-50,-88,-88]).reshape(1,-1), np.array([3]).reshape(1,-1))"
   ]
  },
  {
   "cell_type": "markdown",
   "metadata": {},
   "source": [
    "### Wi-Fi Dataset\n",
    "\n",
    "| No of sectors | Prediction Accuracy | Model size (in MB) | Training time (s) | Prediction time (s) | Learning time (s) |\n",
    "|--------------|--------------------|---------------------|-------------------|---------------------|-------------------|\n",
    "| 1            | 25.0%              | 0.0923              | 0.0049            | 0.0002              | 0.0001            |\n",
    "| 4            | 79.05%             | 0.0928              | 0.0040            | 0.0010              | 0.00009           |\n",
    "| 16           | 97.3%              | 0.0949              | 0.0040            | 0.0003              | 0.00009           |\n",
    "| 64           | 97.6%              | 0.1030              | 0.0050            | 0.0009              | 0.0001            |\n",
    "| 256          | 97.95%             | 0.1356              | 0.0099            | 0.0002              | 0.00009           |\n",
    "| 1024         | 98.05%             | 0.2660              | 0.0615            | 0.0003              | 0.0001            |\n",
    "| 4096         | 98.35%             | 0.7876              | 1.2837            | 0.0010              | 0.00009           |\n",
    "| 16384        | 99.3%              | 2.8738              | 26.7988           | 0.0010              | 0.0001            |\n"
   ]
  },
  {
   "cell_type": "markdown",
   "metadata": {},
   "source": [
    "# HTRU DATASET"
   ]
  },
  {
   "cell_type": "code",
   "execution_count": 20,
   "metadata": {},
   "outputs": [],
   "source": [
    "df = pd.read_csv(r'Datasets\\\\HTRU_2.csv', header=None).iloc[:,:].values\n",
    "X = df[:, :-1].astype(float)\n",
    "Y = df[:, -1].astype(int)\n",
    "mini = np.zeros(len(X[0]))\n",
    "maxi = np.zeros(len(X[0]))\n",
    "for i in range(len(X[0])):\n",
    "    mini[i] = np.min(X[:,i])\n",
    "    maxi[i] = np.max(X[:,i])\n",
    "    X[:,i] = (X[:,i] - np.min(X[:,i]))/(np.max(X[:,i]) - np.min(X[:,i]))\n",
    "    X[:,i] = (X[:,i] - np.mean(X[:,i]))/np.std(X[:,i])\n",
    "X_train, X_test, Y_train, Y_test = train_test_split(X, Y, test_size=0.2, random_state=42)\n",
    "HYPERPARAMETERS__HTRU = np.array([2,2,2,2,2,2,2,2])"
   ]
  },
  {
   "cell_type": "code",
   "execution_count": 21,
   "metadata": {},
   "outputs": [
    {
     "name": "stderr",
     "output_type": "stream",
     "text": [
      "Sectors: 100%|████████████████████████████████████████████████████████████████████████████| 256/256 [00:00<00:00, 18248.50 sector/s]\n"
     ]
    }
   ],
   "source": [
    "model_HTRU = kNN()\n",
    "model_HTRU.fit(X_train, Y_train, HYPERPARAMETERS__HTRU, mini,maxi, classes=2,k=1)\n",
    "model_HTRU.compile()"
   ]
  },
  {
   "cell_type": "code",
   "execution_count": 22,
   "metadata": {},
   "outputs": [
    {
     "name": "stdout",
     "output_type": "stream",
     "text": [
      "Accuracy: 97.37430167597766 %\n"
     ]
    }
   ],
   "source": [
    "model_HTRU.accuracy(X_test, Y_test)"
   ]
  },
  {
   "cell_type": "code",
   "execution_count": 23,
   "metadata": {},
   "outputs": [
    {
     "data": {
      "image/png": "[encoded data removed]",
      "text/plain": [
       "<Figure size 1000x700 with 2 Axes>"
      ]
     },
     "metadata": {},
     "output_type": "display_data"
    },
    {
     "name": "stdout",
     "output_type": "stream",
     "text": [
      "              precision    recall  f1-score   support\n",
      "\n",
      "           0       0.98      0.99      0.99      3259\n",
      "           1       0.88      0.82      0.85       321\n",
      "\n",
      "    accuracy                           0.97      3580\n",
      "   macro avg       0.93      0.90      0.92      3580\n",
      "weighted avg       0.97      0.97      0.97      3580\n",
      "\n"
     ]
    }
   ],
   "source": [
    "model_HTRU.showCharts(X_test, Y_test)"
   ]
  },
  {
   "cell_type": "markdown",
   "metadata": {},
   "source": [
    "## Federated Learning"
   ]
  },
  {
   "cell_type": "code",
   "execution_count": 24,
   "metadata": {},
   "outputs": [
    {
     "name": "stdout",
     "output_type": "stream",
     "text": [
      "Before data:  [0 0 0 0 0 0 0 0] [15 76]\n",
      "Before sectors:  [0 0 0 0 0 0 0 0] 1\n",
      "After data:  [0 0 0 0 0 0 0 0] [15 77]\n",
      "After sectors:  [0 0 0 0 0 0 0 0] 1\n",
      "Updated\n"
     ]
    }
   ],
   "source": [
    "model_HTRU.learn(np.array([140.6796875,44.57874592,0.013023756,0.385921041,4.940635452,25.57445006,5.603603749,32.8049201]).reshape(1,-1), np.array([1]).reshape(1,-1))\n"
   ]
  },
  {
   "cell_type": "markdown",
   "metadata": {},
   "source": [
    "### HTRU Dataset\n",
    "\n",
    "| No of sectors | Prediction Accuracy | Model size (in MB) | Training time (s) | Prediction time (s) | Learning time (s) |\n",
    "|--------------|--------------------|---------------------|-------------------|---------------------|-------------------|\n",
    "| 1            | 90.84%             | 0.8200              | 0.0319            | 0.0006              | 0.001             |\n",
    "| 4            | 93.06%             | 0.8205              | 0.0263            | 0.0008              | 0.001             |\n",
    "| 16           | 93.91%             | 0.8224              | 0.0275            | 0.0010              | 0.001             |\n",
    "| 64           | 97.20%             | 0.8302              | 0.0294            | 0.0010              | 0.001             |\n",
    "| 256          | 97.51%             | 0.8613              | 0.0414            | 0.0005              | 0.001             |\n",
    "| 1024         | 97.72%             | 0.9859              | 0.2608            | 0.0007              | 0.002             |\n",
    "| 4096         | 97.76%             | 1.4840              | 4.6422            | 0.0008              | 0.001             |\n",
    "| 16384        | 97.85%             | 3.4765              | 66.1641           | 0.0004              | 0.0001            |\n"
   ]
  },
  {
   "cell_type": "markdown",
   "metadata": {},
   "source": [
    "## Saving and Loading models"
   ]
  },
  {
   "cell_type": "code",
   "execution_count": 25,
   "metadata": {},
   "outputs": [
    {
     "name": "stdout",
     "output_type": "stream",
     "text": [
      "Accuracy: 97.37430167597766 %\n"
     ]
    }
   ],
   "source": [
    "saveModel(model_HTRU, \"models\\\\model_HTRU.sav\")\n",
    "\n",
    "LoadedModel_HTRU = loadModel(\"models\\\\model_HTRU.sav\")\n",
    "\n",
    "LoadedModel_HTRU.accuracy(X_test, Y_test)"
   ]
  }
 ],
 "metadata": {
  "kernelspec": {
   "display_name": "Python 3 (ipykernel)",
   "language": "python",
   "name": "python3"
  },
  "language_info": {
   "codemirror_mode": {
    "name": "ipython",
    "version": 3
   },
   "file_extension": ".py",
   "mimetype": "text/x-python",
   "name": "python",
   "nbconvert_exporter": "python",
   "pygments_lexer": "ipython3",
   "version": "3.11.4"
  },
  "vscode": {
   "interpreter": {
    "hash": "26de051ba29f2982a8de78e945f0abaf191376122a1563185a90213a26c5da77"
   }
  }
 },
 "nbformat": 4,
 "nbformat_minor": 2
}
